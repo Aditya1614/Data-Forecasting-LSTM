{
  "nbformat": 4,
  "nbformat_minor": 0,
  "metadata": {
    "colab": {
      "provenance": []
    },
    "kernelspec": {
      "name": "python3",
      "display_name": "Python 3"
    },
    "language_info": {
      "name": "python"
    }
  },
  "cells": [
    {
      "cell_type": "code",
      "source": [
        "\"\"\"Dataset : https://archive.ics.uci.edu/ml/datasets/bike+sharing+dataset\"\"\""
      ],
      "metadata": {
        "id": "38a_4PC6C69_"
      },
      "execution_count": null,
      "outputs": []
    },
    {
      "cell_type": "code",
      "execution_count": 2,
      "metadata": {
        "id": "zHVk86ea4NFf"
      },
      "outputs": [],
      "source": [
        "import numpy as np\n",
        "import pandas as pd\n",
        "from keras.layers import Dense, LSTM\n",
        "import matplotlib.pyplot as plt\n",
        "import tensorflow as tf"
      ]
    },
    {
      "cell_type": "code",
      "source": [
        "data_train = pd.read_csv('hour.csv')\n",
        "data_train"
      ],
      "metadata": {
        "colab": {
          "base_uri": "https://localhost:8080/",
          "height": 424
        },
        "id": "Owl6S5aO4sdC",
        "outputId": "b893fe4e-041f-439f-da93-240d1b845953"
      },
      "execution_count": 3,
      "outputs": [
        {
          "output_type": "execute_result",
          "data": {
            "text/plain": [
              "       instant      dteday  season  yr  mnth  hr  holiday  weekday  \\\n",
              "0            1  2011-01-01       1   0     1   0        0        6   \n",
              "1            2  2011-01-01       1   0     1   1        0        6   \n",
              "2            3  2011-01-01       1   0     1   2        0        6   \n",
              "3            4  2011-01-01       1   0     1   3        0        6   \n",
              "4            5  2011-01-01       1   0     1   4        0        6   \n",
              "...        ...         ...     ...  ..   ...  ..      ...      ...   \n",
              "17374    17375  2012-12-31       1   1    12  19        0        1   \n",
              "17375    17376  2012-12-31       1   1    12  20        0        1   \n",
              "17376    17377  2012-12-31       1   1    12  21        0        1   \n",
              "17377    17378  2012-12-31       1   1    12  22        0        1   \n",
              "17378    17379  2012-12-31       1   1    12  23        0        1   \n",
              "\n",
              "       workingday  weathersit  temp   atemp   hum  windspeed  casual  \\\n",
              "0               0           1  0.24  0.2879  0.81     0.0000       3   \n",
              "1               0           1  0.22  0.2727  0.80     0.0000       8   \n",
              "2               0           1  0.22  0.2727  0.80     0.0000       5   \n",
              "3               0           1  0.24  0.2879  0.75     0.0000       3   \n",
              "4               0           1  0.24  0.2879  0.75     0.0000       0   \n",
              "...           ...         ...   ...     ...   ...        ...     ...   \n",
              "17374           1           2  0.26  0.2576  0.60     0.1642      11   \n",
              "17375           1           2  0.26  0.2576  0.60     0.1642       8   \n",
              "17376           1           1  0.26  0.2576  0.60     0.1642       7   \n",
              "17377           1           1  0.26  0.2727  0.56     0.1343      13   \n",
              "17378           1           1  0.26  0.2727  0.65     0.1343      12   \n",
              "\n",
              "       registered  cnt  \n",
              "0              13   16  \n",
              "1              32   40  \n",
              "2              27   32  \n",
              "3              10   13  \n",
              "4               1    1  \n",
              "...           ...  ...  \n",
              "17374         108  119  \n",
              "17375          81   89  \n",
              "17376          83   90  \n",
              "17377          48   61  \n",
              "17378          37   49  \n",
              "\n",
              "[17379 rows x 17 columns]"
            ],
            "text/html": [
              "\n",
              "  <div id=\"df-29c6c58b-87ba-4eae-9d08-8c4dd4ffd323\">\n",
              "    <div class=\"colab-df-container\">\n",
              "      <div>\n",
              "<style scoped>\n",
              "    .dataframe tbody tr th:only-of-type {\n",
              "        vertical-align: middle;\n",
              "    }\n",
              "\n",
              "    .dataframe tbody tr th {\n",
              "        vertical-align: top;\n",
              "    }\n",
              "\n",
              "    .dataframe thead th {\n",
              "        text-align: right;\n",
              "    }\n",
              "</style>\n",
              "<table border=\"1\" class=\"dataframe\">\n",
              "  <thead>\n",
              "    <tr style=\"text-align: right;\">\n",
              "      <th></th>\n",
              "      <th>instant</th>\n",
              "      <th>dteday</th>\n",
              "      <th>season</th>\n",
              "      <th>yr</th>\n",
              "      <th>mnth</th>\n",
              "      <th>hr</th>\n",
              "      <th>holiday</th>\n",
              "      <th>weekday</th>\n",
              "      <th>workingday</th>\n",
              "      <th>weathersit</th>\n",
              "      <th>temp</th>\n",
              "      <th>atemp</th>\n",
              "      <th>hum</th>\n",
              "      <th>windspeed</th>\n",
              "      <th>casual</th>\n",
              "      <th>registered</th>\n",
              "      <th>cnt</th>\n",
              "    </tr>\n",
              "  </thead>\n",
              "  <tbody>\n",
              "    <tr>\n",
              "      <th>0</th>\n",
              "      <td>1</td>\n",
              "      <td>2011-01-01</td>\n",
              "      <td>1</td>\n",
              "      <td>0</td>\n",
              "      <td>1</td>\n",
              "      <td>0</td>\n",
              "      <td>0</td>\n",
              "      <td>6</td>\n",
              "      <td>0</td>\n",
              "      <td>1</td>\n",
              "      <td>0.24</td>\n",
              "      <td>0.2879</td>\n",
              "      <td>0.81</td>\n",
              "      <td>0.0000</td>\n",
              "      <td>3</td>\n",
              "      <td>13</td>\n",
              "      <td>16</td>\n",
              "    </tr>\n",
              "    <tr>\n",
              "      <th>1</th>\n",
              "      <td>2</td>\n",
              "      <td>2011-01-01</td>\n",
              "      <td>1</td>\n",
              "      <td>0</td>\n",
              "      <td>1</td>\n",
              "      <td>1</td>\n",
              "      <td>0</td>\n",
              "      <td>6</td>\n",
              "      <td>0</td>\n",
              "      <td>1</td>\n",
              "      <td>0.22</td>\n",
              "      <td>0.2727</td>\n",
              "      <td>0.80</td>\n",
              "      <td>0.0000</td>\n",
              "      <td>8</td>\n",
              "      <td>32</td>\n",
              "      <td>40</td>\n",
              "    </tr>\n",
              "    <tr>\n",
              "      <th>2</th>\n",
              "      <td>3</td>\n",
              "      <td>2011-01-01</td>\n",
              "      <td>1</td>\n",
              "      <td>0</td>\n",
              "      <td>1</td>\n",
              "      <td>2</td>\n",
              "      <td>0</td>\n",
              "      <td>6</td>\n",
              "      <td>0</td>\n",
              "      <td>1</td>\n",
              "      <td>0.22</td>\n",
              "      <td>0.2727</td>\n",
              "      <td>0.80</td>\n",
              "      <td>0.0000</td>\n",
              "      <td>5</td>\n",
              "      <td>27</td>\n",
              "      <td>32</td>\n",
              "    </tr>\n",
              "    <tr>\n",
              "      <th>3</th>\n",
              "      <td>4</td>\n",
              "      <td>2011-01-01</td>\n",
              "      <td>1</td>\n",
              "      <td>0</td>\n",
              "      <td>1</td>\n",
              "      <td>3</td>\n",
              "      <td>0</td>\n",
              "      <td>6</td>\n",
              "      <td>0</td>\n",
              "      <td>1</td>\n",
              "      <td>0.24</td>\n",
              "      <td>0.2879</td>\n",
              "      <td>0.75</td>\n",
              "      <td>0.0000</td>\n",
              "      <td>3</td>\n",
              "      <td>10</td>\n",
              "      <td>13</td>\n",
              "    </tr>\n",
              "    <tr>\n",
              "      <th>4</th>\n",
              "      <td>5</td>\n",
              "      <td>2011-01-01</td>\n",
              "      <td>1</td>\n",
              "      <td>0</td>\n",
              "      <td>1</td>\n",
              "      <td>4</td>\n",
              "      <td>0</td>\n",
              "      <td>6</td>\n",
              "      <td>0</td>\n",
              "      <td>1</td>\n",
              "      <td>0.24</td>\n",
              "      <td>0.2879</td>\n",
              "      <td>0.75</td>\n",
              "      <td>0.0000</td>\n",
              "      <td>0</td>\n",
              "      <td>1</td>\n",
              "      <td>1</td>\n",
              "    </tr>\n",
              "    <tr>\n",
              "      <th>...</th>\n",
              "      <td>...</td>\n",
              "      <td>...</td>\n",
              "      <td>...</td>\n",
              "      <td>...</td>\n",
              "      <td>...</td>\n",
              "      <td>...</td>\n",
              "      <td>...</td>\n",
              "      <td>...</td>\n",
              "      <td>...</td>\n",
              "      <td>...</td>\n",
              "      <td>...</td>\n",
              "      <td>...</td>\n",
              "      <td>...</td>\n",
              "      <td>...</td>\n",
              "      <td>...</td>\n",
              "      <td>...</td>\n",
              "      <td>...</td>\n",
              "    </tr>\n",
              "    <tr>\n",
              "      <th>17374</th>\n",
              "      <td>17375</td>\n",
              "      <td>2012-12-31</td>\n",
              "      <td>1</td>\n",
              "      <td>1</td>\n",
              "      <td>12</td>\n",
              "      <td>19</td>\n",
              "      <td>0</td>\n",
              "      <td>1</td>\n",
              "      <td>1</td>\n",
              "      <td>2</td>\n",
              "      <td>0.26</td>\n",
              "      <td>0.2576</td>\n",
              "      <td>0.60</td>\n",
              "      <td>0.1642</td>\n",
              "      <td>11</td>\n",
              "      <td>108</td>\n",
              "      <td>119</td>\n",
              "    </tr>\n",
              "    <tr>\n",
              "      <th>17375</th>\n",
              "      <td>17376</td>\n",
              "      <td>2012-12-31</td>\n",
              "      <td>1</td>\n",
              "      <td>1</td>\n",
              "      <td>12</td>\n",
              "      <td>20</td>\n",
              "      <td>0</td>\n",
              "      <td>1</td>\n",
              "      <td>1</td>\n",
              "      <td>2</td>\n",
              "      <td>0.26</td>\n",
              "      <td>0.2576</td>\n",
              "      <td>0.60</td>\n",
              "      <td>0.1642</td>\n",
              "      <td>8</td>\n",
              "      <td>81</td>\n",
              "      <td>89</td>\n",
              "    </tr>\n",
              "    <tr>\n",
              "      <th>17376</th>\n",
              "      <td>17377</td>\n",
              "      <td>2012-12-31</td>\n",
              "      <td>1</td>\n",
              "      <td>1</td>\n",
              "      <td>12</td>\n",
              "      <td>21</td>\n",
              "      <td>0</td>\n",
              "      <td>1</td>\n",
              "      <td>1</td>\n",
              "      <td>1</td>\n",
              "      <td>0.26</td>\n",
              "      <td>0.2576</td>\n",
              "      <td>0.60</td>\n",
              "      <td>0.1642</td>\n",
              "      <td>7</td>\n",
              "      <td>83</td>\n",
              "      <td>90</td>\n",
              "    </tr>\n",
              "    <tr>\n",
              "      <th>17377</th>\n",
              "      <td>17378</td>\n",
              "      <td>2012-12-31</td>\n",
              "      <td>1</td>\n",
              "      <td>1</td>\n",
              "      <td>12</td>\n",
              "      <td>22</td>\n",
              "      <td>0</td>\n",
              "      <td>1</td>\n",
              "      <td>1</td>\n",
              "      <td>1</td>\n",
              "      <td>0.26</td>\n",
              "      <td>0.2727</td>\n",
              "      <td>0.56</td>\n",
              "      <td>0.1343</td>\n",
              "      <td>13</td>\n",
              "      <td>48</td>\n",
              "      <td>61</td>\n",
              "    </tr>\n",
              "    <tr>\n",
              "      <th>17378</th>\n",
              "      <td>17379</td>\n",
              "      <td>2012-12-31</td>\n",
              "      <td>1</td>\n",
              "      <td>1</td>\n",
              "      <td>12</td>\n",
              "      <td>23</td>\n",
              "      <td>0</td>\n",
              "      <td>1</td>\n",
              "      <td>1</td>\n",
              "      <td>1</td>\n",
              "      <td>0.26</td>\n",
              "      <td>0.2727</td>\n",
              "      <td>0.65</td>\n",
              "      <td>0.1343</td>\n",
              "      <td>12</td>\n",
              "      <td>37</td>\n",
              "      <td>49</td>\n",
              "    </tr>\n",
              "  </tbody>\n",
              "</table>\n",
              "<p>17379 rows × 17 columns</p>\n",
              "</div>\n",
              "      <button class=\"colab-df-convert\" onclick=\"convertToInteractive('df-29c6c58b-87ba-4eae-9d08-8c4dd4ffd323')\"\n",
              "              title=\"Convert this dataframe to an interactive table.\"\n",
              "              style=\"display:none;\">\n",
              "        \n",
              "  <svg xmlns=\"http://www.w3.org/2000/svg\" height=\"24px\"viewBox=\"0 0 24 24\"\n",
              "       width=\"24px\">\n",
              "    <path d=\"M0 0h24v24H0V0z\" fill=\"none\"/>\n",
              "    <path d=\"M18.56 5.44l.94 2.06.94-2.06 2.06-.94-2.06-.94-.94-2.06-.94 2.06-2.06.94zm-11 1L8.5 8.5l.94-2.06 2.06-.94-2.06-.94L8.5 2.5l-.94 2.06-2.06.94zm10 10l.94 2.06.94-2.06 2.06-.94-2.06-.94-.94-2.06-.94 2.06-2.06.94z\"/><path d=\"M17.41 7.96l-1.37-1.37c-.4-.4-.92-.59-1.43-.59-.52 0-1.04.2-1.43.59L10.3 9.45l-7.72 7.72c-.78.78-.78 2.05 0 2.83L4 21.41c.39.39.9.59 1.41.59.51 0 1.02-.2 1.41-.59l7.78-7.78 2.81-2.81c.8-.78.8-2.07 0-2.86zM5.41 20L4 18.59l7.72-7.72 1.47 1.35L5.41 20z\"/>\n",
              "  </svg>\n",
              "      </button>\n",
              "      \n",
              "  <style>\n",
              "    .colab-df-container {\n",
              "      display:flex;\n",
              "      flex-wrap:wrap;\n",
              "      gap: 12px;\n",
              "    }\n",
              "\n",
              "    .colab-df-convert {\n",
              "      background-color: #E8F0FE;\n",
              "      border: none;\n",
              "      border-radius: 50%;\n",
              "      cursor: pointer;\n",
              "      display: none;\n",
              "      fill: #1967D2;\n",
              "      height: 32px;\n",
              "      padding: 0 0 0 0;\n",
              "      width: 32px;\n",
              "    }\n",
              "\n",
              "    .colab-df-convert:hover {\n",
              "      background-color: #E2EBFA;\n",
              "      box-shadow: 0px 1px 2px rgba(60, 64, 67, 0.3), 0px 1px 3px 1px rgba(60, 64, 67, 0.15);\n",
              "      fill: #174EA6;\n",
              "    }\n",
              "\n",
              "    [theme=dark] .colab-df-convert {\n",
              "      background-color: #3B4455;\n",
              "      fill: #D2E3FC;\n",
              "    }\n",
              "\n",
              "    [theme=dark] .colab-df-convert:hover {\n",
              "      background-color: #434B5C;\n",
              "      box-shadow: 0px 1px 3px 1px rgba(0, 0, 0, 0.15);\n",
              "      filter: drop-shadow(0px 1px 2px rgba(0, 0, 0, 0.3));\n",
              "      fill: #FFFFFF;\n",
              "    }\n",
              "  </style>\n",
              "\n",
              "      <script>\n",
              "        const buttonEl =\n",
              "          document.querySelector('#df-29c6c58b-87ba-4eae-9d08-8c4dd4ffd323 button.colab-df-convert');\n",
              "        buttonEl.style.display =\n",
              "          google.colab.kernel.accessAllowed ? 'block' : 'none';\n",
              "\n",
              "        async function convertToInteractive(key) {\n",
              "          const element = document.querySelector('#df-29c6c58b-87ba-4eae-9d08-8c4dd4ffd323');\n",
              "          const dataTable =\n",
              "            await google.colab.kernel.invokeFunction('convertToInteractive',\n",
              "                                                     [key], {});\n",
              "          if (!dataTable) return;\n",
              "\n",
              "          const docLinkHtml = 'Like what you see? Visit the ' +\n",
              "            '<a target=\"_blank\" href=https://colab.research.google.com/notebooks/data_table.ipynb>data table notebook</a>'\n",
              "            + ' to learn more about interactive tables.';\n",
              "          element.innerHTML = '';\n",
              "          dataTable['output_type'] = 'display_data';\n",
              "          await google.colab.output.renderOutput(dataTable, element);\n",
              "          const docLink = document.createElement('div');\n",
              "          docLink.innerHTML = docLinkHtml;\n",
              "          element.appendChild(docLink);\n",
              "        }\n",
              "      </script>\n",
              "    </div>\n",
              "  </div>\n",
              "  "
            ]
          },
          "metadata": {},
          "execution_count": 3
        }
      ]
    },
    {
      "cell_type": "code",
      "source": [
        "data_train.isnull().sum()"
      ],
      "metadata": {
        "colab": {
          "base_uri": "https://localhost:8080/"
        },
        "id": "XY6WruKI4070",
        "outputId": "b8f027a6-4c8e-4fd0-ba5d-c74f1dc3c0ce"
      },
      "execution_count": 4,
      "outputs": [
        {
          "output_type": "execute_result",
          "data": {
            "text/plain": [
              "instant       0\n",
              "dteday        0\n",
              "season        0\n",
              "yr            0\n",
              "mnth          0\n",
              "hr            0\n",
              "holiday       0\n",
              "weekday       0\n",
              "workingday    0\n",
              "weathersit    0\n",
              "temp          0\n",
              "atemp         0\n",
              "hum           0\n",
              "windspeed     0\n",
              "casual        0\n",
              "registered    0\n",
              "cnt           0\n",
              "dtype: int64"
            ]
          },
          "metadata": {},
          "execution_count": 4
        }
      ]
    },
    {
      "cell_type": "code",
      "source": [
        "dates = data_train['dteday'].values\n",
        "temp = data_train['temp'].values\n",
        "\n",
        "plt.figure(figsize=(15,5))\n",
        "plt.plot(dates, temp)\n",
        "plt.title('Temperature', fontsize=20)"
      ],
      "metadata": {
        "colab": {
          "base_uri": "https://localhost:8080/",
          "height": 358
        },
        "id": "sw-yhG865FGP",
        "outputId": "346bec22-d61e-484c-9c17-9486f9912f54"
      },
      "execution_count": 5,
      "outputs": [
        {
          "output_type": "execute_result",
          "data": {
            "text/plain": [
              "Text(0.5, 1.0, 'Temperature')"
            ]
          },
          "metadata": {},
          "execution_count": 5
        },
        {
          "output_type": "display_data",
          "data": {
            "text/plain": [
              "<Figure size 1080x360 with 1 Axes>"
            ],
            "image/png": "[encoded data removed]"
          },
          "metadata": {
            "needs_background": "light"
          }
        }
      ]
    },
    {
      "cell_type": "code",
      "source": [
        "from sklearn.model_selection import train_test_split\n",
        "date_latih, date_test, temp_latih, temp_test = train_test_split(dates, temp, test_size=.2, shuffle=False)"
      ],
      "metadata": {
        "id": "f0_R4a5G5r68"
      },
      "execution_count": 17,
      "outputs": []
    },
    {
      "cell_type": "code",
      "source": [
        "def windowed_dataset(series, window_size, batch_size, shuffle_buffer):\n",
        "    series = tf.expand_dims(series, axis=-1)\n",
        "    ds = tf.data.Dataset.from_tensor_slices(series)\n",
        "    ds = ds.window(window_size + 1, shift=1, drop_remainder=True)\n",
        "    ds = ds.flat_map(lambda w: w.batch(window_size + 1))\n",
        "    ds = ds.shuffle(shuffle_buffer)\n",
        "    ds = ds.map(lambda w: (w[:-1], w[-1:]))\n",
        "    return ds.batch(batch_size).prefetch(1)"
      ],
      "metadata": {
        "id": "yXrhZgqX5oak"
      },
      "execution_count": 18,
      "outputs": []
    },
    {
      "cell_type": "code",
      "source": [
        "train_set = windowed_dataset(temp_latih, window_size=60, batch_size=100, shuffle_buffer=1000)\n",
        "test_set = windowed_dataset(temp_test, window_size=60, batch_size=100, shuffle_buffer=1000)\n",
        "model = tf.keras.models.Sequential([\n",
        "   tf.keras.layers.LSTM(60, return_sequences=True),\n",
        "   tf.keras.layers.LSTM(60),\n",
        "   tf.keras.layers.Dense(30, activation=\"relu\"),\n",
        "   tf.keras.layers.Dense(10, activation=\"relu\"),\n",
        "   tf.keras.layers.Dense(1)\n",
        "])"
      ],
      "metadata": {
        "id": "rTe9Sv8g6z1r"
      },
      "execution_count": 19,
      "outputs": []
    },
    {
      "cell_type": "code",
      "source": [
        "minMae = (data_train['temp'].max() - data_train['temp'].min()) * .1\n",
        "\n",
        "print(minMae)"
      ],
      "metadata": {
        "colab": {
          "base_uri": "https://localhost:8080/"
        },
        "id": "JFxqdklX7OBs",
        "outputId": "f175ca98-e5a0-4458-aabc-0460031af026"
      },
      "execution_count": 20,
      "outputs": [
        {
          "output_type": "stream",
          "name": "stdout",
          "text": [
            "0.098\n"
          ]
        }
      ]
    },
    {
      "cell_type": "code",
      "source": [
        "class myCallback(tf.keras.callbacks.Callback):\n",
        "  def on_epoch_end(self, epoch, logs={}):\n",
        "    if (logs.get('mae')<minMae) & (logs.get('val_mae')<minMae):\n",
        "      print('\\nProses dihentikan karena tingkat MAE sudah mencapai <10%!')\n",
        "      self.model.stop_training = True\n",
        "\n",
        "callbacks = myCallback()"
      ],
      "metadata": {
        "id": "OyFWW-kM7gYD"
      },
      "execution_count": 22,
      "outputs": []
    },
    {
      "cell_type": "code",
      "source": [
        "optimizer = tf.keras.optimizers.SGD(learning_rate=1.000e-04, momentum=0.9)\n",
        "model.compile(\n",
        "    loss=tf.keras.losses.Huber(),\n",
        "    optimizer=optimizer,\n",
        "    metrics=['mae']\n",
        "    )\n",
        "history = model.fit(\n",
        "    train_set,\n",
        "    epochs=100,\n",
        "    validation_data=test_set,\n",
        "    verbose=2,\n",
        "    callbacks=[callbacks],\n",
        "    )"
      ],
      "metadata": {
        "colab": {
          "base_uri": "https://localhost:8080/"
        },
        "id": "D2OIjWwM7xu_",
        "outputId": "110553c4-1347-4402-ca33-5a5fec9a58b6"
      },
      "execution_count": 24,
      "outputs": [
        {
          "output_type": "stream",
          "name": "stdout",
          "text": [
            "Epoch 1/100\n",
            "139/139 - 22s - loss: 0.0563 - mae: 0.2889 - val_loss: 0.0354 - val_mae: 0.2223 - 22s/epoch - 155ms/step\n",
            "Epoch 2/100\n",
            "139/139 - 16s - loss: 0.0339 - mae: 0.2135 - val_loss: 0.0210 - val_mae: 0.1636 - 16s/epoch - 118ms/step\n",
            "Epoch 3/100\n",
            "139/139 - 18s - loss: 0.0229 - mae: 0.1746 - val_loss: 0.0144 - val_mae: 0.1376 - 18s/epoch - 129ms/step\n",
            "Epoch 4/100\n",
            "139/139 - 18s - loss: 0.0177 - mae: 0.1563 - val_loss: 0.0115 - val_mae: 0.1272 - 18s/epoch - 126ms/step\n",
            "Epoch 5/100\n",
            "139/139 - 19s - loss: 0.0154 - mae: 0.1478 - val_loss: 0.0104 - val_mae: 0.1232 - 19s/epoch - 135ms/step\n",
            "Epoch 6/100\n",
            "139/139 - 18s - loss: 0.0143 - mae: 0.1436 - val_loss: 0.0098 - val_mae: 0.1211 - 18s/epoch - 131ms/step\n",
            "Epoch 7/100\n",
            "139/139 - 19s - loss: 0.0137 - mae: 0.1411 - val_loss: 0.0096 - val_mae: 0.1201 - 19s/epoch - 140ms/step\n",
            "Epoch 8/100\n",
            "139/139 - 17s - loss: 0.0135 - mae: 0.1398 - val_loss: 0.0096 - val_mae: 0.1196 - 17s/epoch - 122ms/step\n",
            "Epoch 9/100\n",
            "139/139 - 18s - loss: 0.0133 - mae: 0.1388 - val_loss: 0.0095 - val_mae: 0.1192 - 18s/epoch - 127ms/step\n",
            "Epoch 10/100\n",
            "139/139 - 16s - loss: 0.0132 - mae: 0.1380 - val_loss: 0.0094 - val_mae: 0.1188 - 16s/epoch - 118ms/step\n",
            "Epoch 11/100\n",
            "139/139 - 17s - loss: 0.0130 - mae: 0.1373 - val_loss: 0.0094 - val_mae: 0.1183 - 17s/epoch - 119ms/step\n",
            "Epoch 12/100\n",
            "139/139 - 16s - loss: 0.0129 - mae: 0.1366 - val_loss: 0.0093 - val_mae: 0.1178 - 16s/epoch - 119ms/step\n",
            "Epoch 13/100\n",
            "139/139 - 16s - loss: 0.0128 - mae: 0.1359 - val_loss: 0.0092 - val_mae: 0.1173 - 16s/epoch - 118ms/step\n",
            "Epoch 14/100\n",
            "139/139 - 16s - loss: 0.0127 - mae: 0.1352 - val_loss: 0.0092 - val_mae: 0.1167 - 16s/epoch - 118ms/step\n",
            "Epoch 15/100\n",
            "139/139 - 17s - loss: 0.0126 - mae: 0.1345 - val_loss: 0.0091 - val_mae: 0.1162 - 17s/epoch - 119ms/step\n",
            "Epoch 16/100\n",
            "139/139 - 17s - loss: 0.0124 - mae: 0.1338 - val_loss: 0.0090 - val_mae: 0.1156 - 17s/epoch - 119ms/step\n",
            "Epoch 17/100\n",
            "139/139 - 16s - loss: 0.0123 - mae: 0.1330 - val_loss: 0.0089 - val_mae: 0.1149 - 16s/epoch - 118ms/step\n",
            "Epoch 18/100\n",
            "139/139 - 16s - loss: 0.0122 - mae: 0.1323 - val_loss: 0.0088 - val_mae: 0.1143 - 16s/epoch - 118ms/step\n",
            "Epoch 19/100\n",
            "139/139 - 16s - loss: 0.0120 - mae: 0.1316 - val_loss: 0.0087 - val_mae: 0.1137 - 16s/epoch - 117ms/step\n",
            "Epoch 20/100\n",
            "139/139 - 16s - loss: 0.0119 - mae: 0.1308 - val_loss: 0.0086 - val_mae: 0.1130 - 16s/epoch - 117ms/step\n",
            "Epoch 21/100\n",
            "139/139 - 16s - loss: 0.0118 - mae: 0.1300 - val_loss: 0.0085 - val_mae: 0.1124 - 16s/epoch - 117ms/step\n",
            "Epoch 22/100\n",
            "139/139 - 16s - loss: 0.0116 - mae: 0.1293 - val_loss: 0.0084 - val_mae: 0.1117 - 16s/epoch - 116ms/step\n",
            "Epoch 23/100\n",
            "139/139 - 16s - loss: 0.0115 - mae: 0.1285 - val_loss: 0.0083 - val_mae: 0.1110 - 16s/epoch - 116ms/step\n",
            "Epoch 24/100\n",
            "139/139 - 16s - loss: 0.0114 - mae: 0.1277 - val_loss: 0.0082 - val_mae: 0.1103 - 16s/epoch - 117ms/step\n",
            "Epoch 25/100\n",
            "139/139 - 16s - loss: 0.0112 - mae: 0.1268 - val_loss: 0.0081 - val_mae: 0.1096 - 16s/epoch - 116ms/step\n",
            "Epoch 26/100\n",
            "139/139 - 16s - loss: 0.0111 - mae: 0.1260 - val_loss: 0.0081 - val_mae: 0.1089 - 16s/epoch - 118ms/step\n",
            "Epoch 27/100\n",
            "139/139 - 16s - loss: 0.0110 - mae: 0.1252 - val_loss: 0.0080 - val_mae: 0.1082 - 16s/epoch - 117ms/step\n",
            "Epoch 28/100\n",
            "139/139 - 17s - loss: 0.0108 - mae: 0.1243 - val_loss: 0.0079 - val_mae: 0.1075 - 17s/epoch - 123ms/step\n",
            "Epoch 29/100\n",
            "139/139 - 16s - loss: 0.0107 - mae: 0.1235 - val_loss: 0.0078 - val_mae: 0.1068 - 16s/epoch - 117ms/step\n",
            "Epoch 30/100\n",
            "139/139 - 16s - loss: 0.0105 - mae: 0.1226 - val_loss: 0.0076 - val_mae: 0.1060 - 16s/epoch - 118ms/step\n",
            "Epoch 31/100\n",
            "139/139 - 16s - loss: 0.0104 - mae: 0.1216 - val_loss: 0.0075 - val_mae: 0.1052 - 16s/epoch - 117ms/step\n",
            "Epoch 32/100\n",
            "139/139 - 16s - loss: 0.0102 - mae: 0.1205 - val_loss: 0.0074 - val_mae: 0.1040 - 16s/epoch - 117ms/step\n",
            "Epoch 33/100\n",
            "139/139 - 16s - loss: 0.0099 - mae: 0.1189 - val_loss: 0.0071 - val_mae: 0.1022 - 16s/epoch - 117ms/step\n",
            "Epoch 34/100\n",
            "139/139 - 16s - loss: 0.0097 - mae: 0.1174 - val_loss: 0.0070 - val_mae: 0.1010 - 16s/epoch - 117ms/step\n",
            "Epoch 35/100\n",
            "139/139 - 16s - loss: 0.0095 - mae: 0.1159 - val_loss: 0.0069 - val_mae: 0.0998 - 16s/epoch - 117ms/step\n",
            "Epoch 36/100\n",
            "139/139 - 16s - loss: 0.0093 - mae: 0.1146 - val_loss: 0.0067 - val_mae: 0.0987 - 16s/epoch - 116ms/step\n",
            "Epoch 37/100\n",
            "139/139 - 16s - loss: 0.0091 - mae: 0.1132 - val_loss: 0.0066 - val_mae: 0.0975 - 16s/epoch - 116ms/step\n",
            "Epoch 38/100\n",
            "139/139 - 17s - loss: 0.0089 - mae: 0.1118 - val_loss: 0.0064 - val_mae: 0.0963 - 17s/epoch - 124ms/step\n",
            "Epoch 39/100\n",
            "139/139 - 17s - loss: 0.0087 - mae: 0.1103 - val_loss: 0.0063 - val_mae: 0.0951 - 17s/epoch - 120ms/step\n",
            "Epoch 40/100\n",
            "139/139 - 16s - loss: 0.0084 - mae: 0.1089 - val_loss: 0.0061 - val_mae: 0.0939 - 16s/epoch - 119ms/step\n",
            "Epoch 41/100\n",
            "139/139 - 16s - loss: 0.0082 - mae: 0.1075 - val_loss: 0.0060 - val_mae: 0.0927 - 16s/epoch - 119ms/step\n",
            "Epoch 42/100\n",
            "139/139 - 16s - loss: 0.0080 - mae: 0.1061 - val_loss: 0.0058 - val_mae: 0.0914 - 16s/epoch - 118ms/step\n",
            "Epoch 43/100\n",
            "139/139 - 17s - loss: 0.0078 - mae: 0.1046 - val_loss: 0.0057 - val_mae: 0.0902 - 17s/epoch - 119ms/step\n",
            "Epoch 44/100\n",
            "139/139 - 16s - loss: 0.0076 - mae: 0.1031 - val_loss: 0.0055 - val_mae: 0.0890 - 16s/epoch - 118ms/step\n",
            "Epoch 45/100\n",
            "139/139 - 16s - loss: 0.0074 - mae: 0.1016 - val_loss: 0.0054 - val_mae: 0.0877 - 16s/epoch - 119ms/step\n",
            "Epoch 46/100\n",
            "139/139 - 17s - loss: 0.0072 - mae: 0.1001 - val_loss: 0.0053 - val_mae: 0.0864 - 17s/epoch - 119ms/step\n",
            "Epoch 47/100\n",
            "139/139 - 16s - loss: 0.0070 - mae: 0.0986 - val_loss: 0.0051 - val_mae: 0.0852 - 16s/epoch - 117ms/step\n",
            "Epoch 48/100\n",
            "\n",
            "Proses dihentikan karena tingkat MAE sudah mencapai <10%!\n",
            "139/139 - 17s - loss: 0.0068 - mae: 0.0971 - val_loss: 0.0050 - val_mae: 0.0839 - 17s/epoch - 119ms/step\n"
          ]
        }
      ]
    },
    {
      "cell_type": "code",
      "source": [
        "plt.plot(history.history['mae'])\n",
        "plt.plot(history.history['val_mae'])\n",
        "plt.title('MAE Model')\n",
        "plt.ylabel('MAE')\n",
        "plt.xlabel('epoch')\n",
        "plt.legend(['Training MAE', 'Validation MAE'], loc='upper right')\n",
        "plt.show()"
      ],
      "metadata": {
        "colab": {
          "base_uri": "https://localhost:8080/",
          "height": 295
        },
        "id": "bbhlYsv0A1CK",
        "outputId": "a21c15e0-b902-470b-d427-4b95d8cc8203"
      },
      "execution_count": 34,
      "outputs": [
        {
          "output_type": "display_data",
          "data": {
            "text/plain": [
              "<Figure size 432x288 with 1 Axes>"
            ],
            "image/png": "[encoded data removed]"
          },
          "metadata": {
            "needs_background": "light"
          }
        }
      ]
    },
    {
      "cell_type": "code",
      "source": [
        "plt.plot(history.history['loss'])\n",
        "plt.plot(history.history['val_loss'])\n",
        "plt.title('Loss Model')\n",
        "plt.ylabel('loss')\n",
        "plt.xlabel('epoch')\n",
        "plt.legend(['Training loss', 'Validation loss'], loc='upper right')\n",
        "plt.show()"
      ],
      "metadata": {
        "colab": {
          "base_uri": "https://localhost:8080/",
          "height": 295
        },
        "id": "Cw3r8aD8BrAW",
        "outputId": "cecdaa0f-c395-4d18-eac7-5faf98cac28e"
      },
      "execution_count": 35,
      "outputs": [
        {
          "output_type": "display_data",
          "data": {
            "text/plain": [
              "<Figure size 432x288 with 1 Axes>"
            ],
            "image/png": "[encoded data removed]"
          },
          "metadata": {
            "needs_background": "light"
          }
        }
      ]
    }
  ]
}